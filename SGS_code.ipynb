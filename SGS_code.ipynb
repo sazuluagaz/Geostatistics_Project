{
 "cells": [
  {
   "cell_type": "code",
   "execution_count": null,
   "metadata": {},
   "outputs": [],
   "source": [
    "import numpy as np\n",
    "import matplotlib\n",
    "import scipy.stats as sst\n",
    "import scipy as sp\n",
    "import matplotlib.pylab as plt\n",
    "from ipywidgets import interact,Checkbox,Text,VBox\n",
    "\n",
    "import scipy.spatial.distance as ssp\n",
    "import random"
   ]
  },
  {
   "cell_type": "code",
   "execution_count": null,
   "metadata": {},
   "outputs": [],
   "source": [
    "dx = 100\n",
    "dy = dx\n",
    "\n",
    "A = np.random.normal(70, 15, size=(50,50))\n",
    "vector_A = A.flatten()\n",
    "# print (A)\n",
    "\n",
    "i_coords, j_coords = np.meshgrid(range(A.shape[0]), range(A.shape[1]), indexing='ij')\n",
    "coords = np.column_stack((np.concatenate(i_coords), np.concatenate(j_coords)))\n",
    "index = np.arange(A.shape[0]*A.shape[1])"
   ]
  },
  {
   "cell_type": "code",
   "execution_count": null,
   "metadata": {},
   "outputs": [],
   "source": [
    "unique = random.sample(range(A.shape[0]*A.shape[1]), 150)\n",
    "data=vector_A[unique]\n",
    "#Normalization of data\n",
    "data = (data-np.mean(data))/np.std(data)\n",
    "len_data = len(data)"
   ]
  },
  {
   "cell_type": "code",
   "execution_count": null,
   "metadata": {
    "scrolled": true
   },
   "outputs": [],
   "source": [
    "plt.hist(data, density=True)"
   ]
  },
  {
   "cell_type": "code",
   "execution_count": null,
   "metadata": {},
   "outputs": [],
   "source": [
    "plt.hist(data, \n",
    "         density=True,\n",
    "         cumulative=True)"
   ]
  },
  {
   "cell_type": "code",
   "execution_count": null,
   "metadata": {},
   "outputs": [],
   "source": [
    "#CORRECT!!!\n",
    "coordinates_data = coords[unique]\n",
    "print(coordinates_data)"
   ]
  },
  {
   "cell_type": "code",
   "execution_count": null,
   "metadata": {},
   "outputs": [],
   "source": [
    "H = ssp.pdist(coordinates_data, metric='euclidean')\n",
    "D = ssp.squareform(H)"
   ]
  },
  {
   "cell_type": "code",
   "execution_count": null,
   "metadata": {},
   "outputs": [],
   "source": [
    "plt.imshow(D)\n",
    "plt.colorbar()"
   ]
  },
  {
   "cell_type": "code",
   "execution_count": null,
   "metadata": {},
   "outputs": [],
   "source": [
    "plt.scatter(coordinates_data[:,0], coordinates_data[:,1])\n",
    "plt.title('Plan view')"
   ]
  },
  {
   "cell_type": "code",
   "execution_count": null,
   "metadata": {},
   "outputs": [],
   "source": [
    "var = np.zeros((len_data,len_data))\n",
    "for i in range(len_data):\n",
    "    for j in range(i, len_data):\n",
    "        var[i,j] = (data[i] - data[j])**2."
   ]
  },
  {
   "cell_type": "code",
   "execution_count": null,
   "metadata": {},
   "outputs": [],
   "source": [
    "dists_ix = np.triu_indices(D.shape[0], 0)\n",
    "dists_triu = D[dists_ix]\n",
    "\n",
    "vars_ix = np.triu_indices(var.shape[0], 0)\n",
    "vars_triu = var[vars_ix]\n",
    "\n",
    "plt.scatter(dists_triu, vars_triu, s=40, facecolors='none', edgecolors='b')\n",
    "plt.xlabel(\"distance\")\n",
    "plt.ylabel(\"variance\")"
   ]
  },
  {
   "cell_type": "code",
   "execution_count": null,
   "metadata": {},
   "outputs": [],
   "source": [
    "bins = np.array([0.0, 250., 500., 1000., 2000., 3000., 4000., 5000., 6000.])\n",
    "\n",
    "ixs = []    # for measurement values at point 0\n",
    "ixs_h = []  # for measurement values at point 1\n",
    "rs = []     # for rs in each bin\n",
    "d_mean = [] # for mean distances\n",
    "\n",
    "for cur_i in range(0, len(bins)-1):\n",
    "    ix = np.where(np.logical_and(D>bins[cur_i], D<=bins[cur_i+1]))\n",
    "    d_mean.append(D[ix].mean())\n",
    "    F_0 = data[ix[0]]\n",
    "    F_1 = data[ix[1]]\n",
    "    r = np.corrcoef(F_0, F_1)[1,0]\n",
    "    rs.append(r)\n",
    "    ixs.append(F_0)\n",
    "    ixs_h.append(F_1)  "
   ]
  },
  {
   "cell_type": "code",
   "execution_count": null,
   "metadata": {},
   "outputs": [],
   "source": [
    "plt.plot(d_mean, rs, 'o-')\n",
    "plt.title('Correlogram')"
   ]
  },
  {
   "cell_type": "code",
   "execution_count": null,
   "metadata": {},
   "outputs": [],
   "source": [
    "Z1, Z2 = np.meshgrid(data, data)\n",
    "sem_var = (Z1-Z2)**2.\n",
    "\n",
    "\n",
    "sem_vars = []\n",
    "co_vars = []\n",
    "for cur_i_bin, cur_bin in enumerate(bins[:-1]):\n",
    "    ix = np.where(np.logical_and(D>bins[cur_i_bin], D<=bins[cur_i_bin+1]))\n",
    "    \n",
    "    ## do it via the prepared large matrices\n",
    "    sem_var_cur = np.sum(sem_var[ix])/(2.0 * ix[0].shape[0])\n",
    "    #print sem_var_cur\n",
    "    sem_vars.append(sem_var_cur)\n",
    "    \n",
    "    mean = data[ix[1]].mean()\n",
    "    covar = np.sum((data[ix[1]]-mean)* (data[ix[0]]-mean))/( ix[0].shape[0])\n",
    "    co_vars.append(covar)"
   ]
  },
  {
   "cell_type": "code",
   "execution_count": null,
   "metadata": {
    "scrolled": true
   },
   "outputs": [],
   "source": [
    "# Plot Empirical Variogram\n",
    "centers =  (bins[:-1] + bins[1:])/2\n",
    "plt.scatter(centers, np.array(sem_vars), s=80)\n",
    "plt.grid(True)\n",
    "plt.xlabel('distance (h)')\n",
    "plt.ylabel('$\\gamma^{\\star}$')\n",
    "plt.xlim(0.0,)\n",
    "plt.ylim(0.0,)"
   ]
  },
  {
   "cell_type": "code",
   "execution_count": null,
   "metadata": {},
   "outputs": [],
   "source": [
    "import helpers.theo_variogram_fct as vario\n",
    "import helpers.th_cov_func as nest_vario\n",
    "# Define Dictionaries of Theoretical Variogram Models\n",
    "\n",
    "# Dictionary for individual variogram models. Reference the theo_variogram_fct python file\n",
    "models = {'Exponential': vario.ExponentialVariogram,\n",
    "          'Spherical': vario.SphericalVariogram,\n",
    "          'Gaussian': vario.GaussianVariogram,\n",
    "          'Linear': vario.LinearVariogram}\n",
    "\n",
    "# Dictionary for individual short-form variogram models to be used for composited variogram models\n",
    "mods = {'Exp': vario.ExponentialVariogram,\n",
    "        'Sph': vario.SphericalVariogram,\n",
    "        'Gau': vario.GaussianVariogram,\n",
    "        'Lin': vario.LinearVariogram}"
   ]
  },
  {
   "cell_type": "code",
   "execution_count": null,
   "metadata": {},
   "outputs": [],
   "source": [
    "# plotting for function for individual models\n",
    "def plot_varmodel(Sill, Range, Model):\n",
    "    v_model = Model(Sill, Range, h)\n",
    "    plt.plot(h,v_model, c='red') # Model Variogram\n",
    "    plt.scatter(centers, np.array(sem_vars), s=80) # Empirical Variogram\n",
    "    plt.xlabel('distance')\n",
    "    plt.ylabel('$\\\\gamma$')\n",
    "    plt.xlim(0.,max(h))\n",
    "    plt.ylim(0.,)\n",
    "    plt.grid(True)\n",
    "    plt.show()"
   ]
  },
  {
   "cell_type": "code",
   "execution_count": null,
   "metadata": {},
   "outputs": [],
   "source": [
    "# Determine first guess of sill and range from empirical variogram\n",
    "var_sill = np.round(np.max(np.array(sem_vars)),decimals = -1)\n",
    "h = np.linspace(0, max(centers),  int(max(centers)/10.))\n",
    "var_range = np.round(np.max(np.array(centers)),decimals = -1)\n"
   ]
  },
  {
   "cell_type": "code",
   "execution_count": null,
   "metadata": {},
   "outputs": [],
   "source": [
    "# Trigger Interactive Plot\n",
    "import importlib\n",
    "importlib.reload(vario)\n",
    "interact(plot_varmodel,\n",
    "         Sill =(var_sill/2,var_sill*2,1),\n",
    "         Range = (0,max(h), max(h)/100),\n",
    "         Model = models)"
   ]
  },
  {
   "cell_type": "code",
   "execution_count": null,
   "metadata": {},
   "outputs": [],
   "source": [
    "#Montecarlo random path\n",
    "index_to_simulate = np.delete(index, unique, axis=0)#Delete from the matrix the 'observed data'\n",
    "seeds = [10] #Len define number of realizations\n",
    "for i in seeds:#iteration in every realization \n",
    "    random.seed(i)\n",
    "    path = random.randint(len(index_to_simulate),size=len(index_to_simulate))\n",
    "    coord_order = coords[index_to_simulate[path]]\n",
    "    \n"
   ]
  }
 ],
 "metadata": {
  "kernelspec": {
   "display_name": "Python 3",
   "language": "python",
   "name": "python3"
  },
  "language_info": {
   "codemirror_mode": {
    "name": "ipython",
    "version": 3
   },
   "file_extension": ".py",
   "mimetype": "text/x-python",
   "name": "python",
   "nbconvert_exporter": "python",
   "pygments_lexer": "ipython3",
   "version": "3.7.4"
  }
 },
 "nbformat": 4,
 "nbformat_minor": 2
}
