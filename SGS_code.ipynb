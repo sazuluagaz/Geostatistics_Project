{
 "cells": [
  {
   "cell_type": "code",
   "execution_count": 3,
   "metadata": {},
   "outputs": [
    {
     "name": "stdout",
     "output_type": "stream",
     "text": [
      "[[47 10 52 ... 64 26 21]\n",
      " [ 9 47 50 ... 61 52 16]\n",
      " [62 65 45 ... 11 50 32]\n",
      " ...\n",
      " [67  1 28 ... 51 14 30]\n",
      " [50 49 63 ... 15  6 19]\n",
      " [ 3 50  9 ... 31 41 30]]\n"
     ]
    }
   ],
   "source": [
    "import numpy as np\n"
   ]
  },
  {
   "cell_type": "code",
   "execution_count": null,
   "metadata": {},
   "outputs": [],
   "source": [
    "A = np.random.randint(70, size=(50,50))\n",
    "print (A)"
   ]
  },
  {
   "cell_type": "code",
   "execution_count": 5,
   "metadata": {},
   "outputs": [
    {
     "data": {
      "text/plain": [
       "array([20, 52,  9, 40, 58,  8, 47, 60, 69, 48, 53, 44, 31, 15, 37, 48, 58,\n",
       "       57, 68, 38, 57, 33, 36,  1, 35, 36, 65, 50, 52, 10, 44,  6, 32, 47,\n",
       "       67, 11, 56, 60,  3, 10, 42, 14,  2, 62, 49, 31, 60, 10, 21, 27, 55,\n",
       "       43, 52, 59, 46, 49, 66, 12, 49, 50, 63, 30, 43, 23, 40, 18,  2, 16,\n",
       "       56,  5, 44, 27, 35,  2, 34,  5, 26, 52, 51,  9, 57, 41, 59, 50,  9,\n",
       "       20, 20, 37, 57, 24,  3, 44, 20,  9, 59, 62, 38, 12, 50,  0, 50, 27,\n",
       "        8, 20, 52, 34, 67, 57, 12,  2, 25,  8, 48,  4, 39,  1, 24, 64, 66,\n",
       "       52,  0, 14,  5, 52, 31, 43, 27, 15, 34,  2, 21, 32, 12, 53, 46, 52,\n",
       "       63, 35, 49, 45,  7, 35, 22, 60, 64, 20, 47,  9, 37, 31])"
      ]
     },
     "execution_count": 5,
     "metadata": {},
     "output_type": "execute_result"
    }
   ],
   "source": [
    "rows = np.random.randint(50, size=(150))\n",
    "columns = np.random.randint(50, size=(150))\n",
    "B = \n",
    "\n",
    "\n",
    "A[rows, columns]"
   ]
  },
  {
   "cell_type": "code",
   "execution_count": 48,
   "metadata": {},
   "outputs": [
    {
     "name": "stdout",
     "output_type": "stream",
     "text": [
      "[[ 7 36]\n",
      " [ 9 11]\n",
      " [ 5 42]\n",
      " [23  9]\n",
      " [44 19]]\n"
     ]
    }
   ],
   "source": [
    "position_vector = np.column_stack((rows[:5], columns[:5]))\n",
    "print (position_vector)"
   ]
  },
  {
   "cell_type": "code",
   "execution_count": 50,
   "metadata": {},
   "outputs": [
    {
     "name": "stdout",
     "output_type": "stream",
     "text": [
      "[[ 7 36]\n",
      " [ 9 11]\n",
      " [ 5 42]\n",
      " [23  9]\n",
      " [44 19]]\n"
     ]
    }
   ],
   "source": [
    "b = np.asarray(position_vector)\n",
    "print (b)"
   ]
  },
  {
   "cell_type": "code",
   "execution_count": 54,
   "metadata": {},
   "outputs": [
    {
     "ename": "AttributeError",
     "evalue": "'numpy.ndarray' object has no attribute 'values'",
     "output_type": "error",
     "traceback": [
      "\u001b[1;31m---------------------------------------------------------------------------\u001b[0m",
      "\u001b[1;31mAttributeError\u001b[0m                            Traceback (most recent call last)",
      "\u001b[1;32m<ipython-input-54-3a2ce2a0c834>\u001b[0m in \u001b[0;36m<module>\u001b[1;34m\u001b[0m\n\u001b[1;32m----> 1\u001b[1;33m \u001b[0mA\u001b[0m\u001b[1;33m[\u001b[0m\u001b[0mb\u001b[0m\u001b[1;33m[\u001b[0m\u001b[1;36m0\u001b[0m\u001b[1;33m]\u001b[0m\u001b[1;33m.\u001b[0m\u001b[0mvalues\u001b[0m\u001b[1;33m]\u001b[0m\u001b[1;33m\u001b[0m\u001b[1;33m\u001b[0m\u001b[0m\n\u001b[0m",
      "\u001b[1;31mAttributeError\u001b[0m: 'numpy.ndarray' object has no attribute 'values'"
     ]
    }
   ],
   "source": [
    "A[b[0].values]"
   ]
  },
  {
   "cell_type": "code",
   "execution_count": 45,
   "metadata": {},
   "outputs": [
    {
     "data": {
      "text/plain": [
       "[array([[35, 61, 20, 12, 36, 40, 46, 48, 49, 35,  2, 21, 42, 41, 38, 25,\n",
       "         28, 47, 48,  6,  7,  7, 23, 40, 15,  3,  8, 34, 58, 25, 25,  3,\n",
       "         50,  7, 68, 65, 20, 45, 69, 31, 35, 24, 36, 12, 29, 21,  3, 43,\n",
       "         35, 58],\n",
       "        [26, 16, 60, 23, 62, 25, 38,  1, 14, 67, 54, 23, 19,  5, 30,  1,\n",
       "         50, 39, 39, 30, 65, 55, 37, 15, 38, 10, 55, 19,  9, 38, 63, 67,\n",
       "         48, 49,  9, 59,  1, 17, 60, 24, 16, 37, 12, 21, 29, 67,  9, 15,\n",
       "         22, 36]]),\n",
       " array([[59, 44, 55, 27, 54, 10, 34, 18, 66, 46, 42, 52, 44, 23,  4,  6,\n",
       "          6, 64, 21, 68, 67, 46, 34, 65, 36, 22, 30, 41, 26, 59,  9, 53,\n",
       "         51, 16, 57, 65, 14, 59, 42, 35, 31, 38, 56, 17, 32, 66, 21, 60,\n",
       "         53, 56],\n",
       "        [16, 13, 61, 62, 60, 13, 23, 33, 68,  5, 14, 63, 67, 32,  1, 65,\n",
       "         63, 25, 18, 61, 60, 32, 12, 28, 30, 58, 52, 57, 53, 36, 30, 55,\n",
       "         12, 55, 49, 11, 19, 50, 44, 24, 12,  5, 34, 63, 24, 20,  9, 63,\n",
       "         20, 35]]),\n",
       " array([[ 8, 21,  5, 23, 26, 66, 33,  1,  2, 48, 43, 30, 13, 46, 40,  8,\n",
       "         55, 58, 35, 22, 31, 51, 48, 52, 65, 31, 42, 34, 41, 42,  9,  9,\n",
       "         42, 65, 37, 69, 37, 46,  1, 17, 14, 46,  9, 41,  2,  2, 59, 36,\n",
       "         67, 32],\n",
       "        [ 2, 68, 61, 20, 37, 63, 30,  0, 45, 14, 26, 32,  9,  9, 18, 18,\n",
       "         44, 45, 50,  9, 53, 64, 42, 49,  6, 38, 44, 16, 67, 24, 49,  0,\n",
       "         55, 52, 27, 50, 48, 25, 22,  3, 67, 56, 27, 40, 63, 46,  8, 62,\n",
       "         38,  0]]),\n",
       " array([[56, 59, 69, 23, 67, 27, 47,  3,  8, 40, 19,  3, 14, 22, 25, 41,\n",
       "         50, 64, 44, 56, 25, 12, 20, 38, 32, 57, 40, 35, 43, 22, 35, 41,\n",
       "         11, 35, 52,  3, 56, 61, 42, 24, 51, 67, 54, 21, 61, 60, 48, 26,\n",
       "         35, 52],\n",
       "        [59, 44, 55, 27, 54, 10, 34, 18, 66, 46, 42, 52, 44, 23,  4,  6,\n",
       "          6, 64, 21, 68, 67, 46, 34, 65, 36, 22, 30, 41, 26, 59,  9, 53,\n",
       "         51, 16, 57, 65, 14, 59, 42, 35, 31, 38, 56, 17, 32, 66, 21, 60,\n",
       "         53, 56]]),\n",
       " array([[19, 65, 37, 68, 14, 37, 33, 27,  9, 39, 46, 24, 68, 60, 14, 66,\n",
       "         34, 42, 30, 58, 45, 45, 66, 52, 46, 38, 62, 65, 36, 34,  0, 56,\n",
       "          8, 54, 19, 27, 18, 68,  4, 49, 22, 35, 44, 31, 17, 36, 28, 17,\n",
       "         16, 23],\n",
       "        [23, 63,  3, 12, 27, 33, 23, 49, 41,  1, 46, 29, 67, 56, 64, 25,\n",
       "         26, 32,  5, 58, 35, 58, 55, 15, 69, 25, 22, 50, 58, 67, 60, 39,\n",
       "         58, 16, 34, 49, 23, 62, 48, 60,  6, 65, 39, 28, 35, 63, 37, 43,\n",
       "         54, 34]])]"
      ]
     },
     "execution_count": 45,
     "metadata": {},
     "output_type": "execute_result"
    }
   ],
   "source": [
    "[A[i] for i in position_vector]"
   ]
  },
  {
   "cell_type": "code",
   "execution_count": 9,
   "metadata": {},
   "outputs": [
    {
     "data": {
      "text/plain": [
       "31"
      ]
     },
     "execution_count": 9,
     "metadata": {},
     "output_type": "execute_result"
    }
   ],
   "source": [
    "A[4,18]"
   ]
  },
  {
   "cell_type": "code",
   "execution_count": null,
   "metadata": {},
   "outputs": [],
   "source": [
    "plt.hist(rvs, density=True)\n",
    "\n",
    "x = np.linspace(rv.ppf(0.001),\n",
    "                rv.ppf(0.999), 100)\n",
    "plt.plot(x, \n",
    "         rv.pdf(x),\n",
    "         'r-',\n",
    "         lw=5,\n",
    "         alpha=0.6,\n",
    "         label='gumbel_r',)\n",
    "plt.grid(True)\n",
    "plt.legend()"
   ]
  }
 ],
 "metadata": {
  "kernelspec": {
   "display_name": "Python 3",
   "language": "python",
   "name": "python3"
  },
  "language_info": {
   "codemirror_mode": {
    "name": "ipython",
    "version": 3
   },
   "file_extension": ".py",
   "mimetype": "text/x-python",
   "name": "python",
   "nbconvert_exporter": "python",
   "pygments_lexer": "ipython3",
   "version": "3.7.4"
  }
 },
 "nbformat": 4,
 "nbformat_minor": 2
}
